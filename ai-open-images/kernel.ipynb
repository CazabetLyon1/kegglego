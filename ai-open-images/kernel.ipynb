{
  "cells": [
    {
      "metadata": {
        "_uuid": "8f2839f25d086af736a60e9eeb907d3b93b6e0e5",
        "_cell_guid": "b1076dfc-b9ad-4769-8c92-a6c4dae69d19",
        "trusted": true
      },
      "cell_type": "code",
      "source": "#04/02/2019\nimport numpy as np # Algebre linéaire\nimport pandas as pd # Data processing, CSV\n\nfrom PIL import Image # Image display\nimport matplotlib.pyplot as plt\n\nfrom io import BytesIO # Image request\nimport requests\n\nimport bq_helper # Data train querry\nfrom bq_helper import BigQueryHelper\n\nimport os",
      "execution_count": 1,
      "outputs": []
    },
    {
      "metadata": {
        "trusted": true,
        "_uuid": "cab4e20497b91f933f67ee646cc8e2b94ad9d8c7"
      },
      "cell_type": "code",
      "source": "def images_from_url(url):\n    response = requests.get(url)\n    return Image.open(BytesIO(response.content))",
      "execution_count": 2,
      "outputs": []
    },
    {
      "metadata": {
        "trusted": true,
        "_uuid": "bfb4eeed4fb164855742bbb34de331c9c8cb51bd",
        "scrolled": true
      },
      "cell_type": "code",
      "source": "open_images = bq_helper.BigQueryHelper(active_project=\"bigquery-public-data\",\n                                   dataset_name=\"open_images\")\nbq_assistant = BigQueryHelper(\"bigquery-public-data\", \"open_images\")\n\n# Liste des tables :\n#['annotations_bbox', 'dict', 'images', 'labels']",
      "execution_count": 3,
      "outputs": [
        {
          "output_type": "stream",
          "text": "Using Kaggle's public dataset BigQuery integration.\nUsing Kaggle's public dataset BigQuery integration.\n",
          "name": "stdout"
        }
      ]
    },
    {
      "metadata": {
        "trusted": true,
        "_uuid": "cec19739ea356e27512b0b1a5927512b5ba89d00",
        "scrolled": false
      },
      "cell_type": "code",
      "source": "subQueryImages = \"\"\"\n(SELECT image_id, original_url\nFROM `bigquery-public-data.open_images.images`)\n\"\"\"\n\nsubQueryBox = \"\"\"\n(SELECT image_id, label_name, x_min, x_max, y_min, y_max\nFROM `bigquery-public-data.open_images.annotations_bbox`\nORDER BY image_id\nLIMIT 100000)\n\"\"\"\n\nsubQueryWord = \"\"\"\n(SELECT label_name, label_display_name\nFROM `bigquery-public-data.open_images.dict`)\n\"\"\"\n\nmainQuery = \"\"\"\nSELECT img.image_id, img.original_url, wrd.label_display_name, box.label_name, box.x_min, box.x_max, box.y_min, box.y_max\nFROM \"\"\" + subQueryImages + \"\"\" img\nINNER JOIN \"\"\" + subQueryBox + \"\"\" box ON img.image_id = box.image_id\nINNER JOIN \"\"\" + subQueryWord + \"\"\"wrd ON box.label_name = wrd.label_name\nORDER BY img.image_id\n\"\"\"\n\nlabelQuery = \"\"\"\nSELECT ROW_NUMBER() OVER (ORDER BY wrd.label_name) - 1 AS row, wrd.label_name, wrd.label_display_name\nFROM (SELECT DISTINCT(label_name) FROM \"\"\" + subQueryBox + \"\"\") lab\nJOIN \"\"\" + subQueryWord + \"\"\" wrd ON lab.label_name = wrd.label_name\"\"\"\n\n\n\ndataset = open_images.query_to_pandas_safe(mainQuery)\nlabelUnique = open_images.query_to_pandas_safe(labelQuery)\n\n\"\"\"\nfor i in range(0, 10):\n    plt.imshow(images_from_url(dataset.original_url[i]))\n    plt.show()\n    print(dataset.label_display_name[i])\n    print(dataset.original_url[i])\"\"\"",
      "execution_count": 9,
      "outputs": [
        {
          "output_type": "execute_result",
          "execution_count": 9,
          "data": {
            "text/plain": "'\\nfor i in range(0, 10):\\n    plt.imshow(images_from_url(dataset.original_url[i]))\\n    plt.show()\\n    print(dataset.label_display_name[i])\\n    print(dataset.original_url[i])'"
          },
          "metadata": {}
        }
      ]
    },
    {
      "metadata": {
        "trusted": true,
        "_uuid": "3dc31f60fb2ab15eb28c7d496c3c7784cc3b6146"
      },
      "cell_type": "code",
      "source": "print(labelUnique)",
      "execution_count": 10,
      "outputs": [
        {
          "output_type": "stream",
          "text": "     row   label_name label_display_name\n0      0    /m/011k07           Tortoise\n1      1  /m/011q46kg          Container\n2      2    /m/012074             Magpie\n3      3    /m/0120dh         Sea turtle\n4      4    /m/01226z           Football\n5      5    /m/012n7d          Ambulance\n6      6    /m/012w5l             Ladder\n7      7    /m/012xff         Toothbrush\n8      8    /m/012ysf            Syringe\n9      9    /m/0130jx               Sink\n10    10    /m/0138tl                Toy\n11    11    /m/013y1f              Organ\n12    12    /m/01432t      Cassette deck\n13    13    /m/014j1m              Apple\n14    14    /m/014sv8                Eye\n15    15    /m/014trl          Cosmetics\n16    16    /m/014y4n             Paddle\n17    17    /m/0152hh            Snowman\n18    18     /m/01599               Beer\n19    19    /m/015h_t              Beard\n20    20     /m/015p6               Bird\n21    21    /m/015qbp      Parking meter\n22    22    /m/015qff      Traffic light\n23    23    /m/015wgc          Croissant\n24    24    /m/015x4r           Cucumber\n25    25    /m/015x5n             Radish\n26    26    /m/0162_1              Towel\n27    27    /m/0167gd               Doll\n28    28    /m/016m2d              Skull\n29    29    /m/0174k2    Washing machine\n..   ...          ...                ...\n555  555      /m/0k4j                Car\n556  556      /m/0k5j           Aircraft\n557  557     /m/0k65p               Hand\n558  558     /m/0kmg4         Teddy bear\n559  559     /m/0kpqd         Watermelon\n560  560     /m/0kpt_         Cantaloupe\n561  561     /m/0ky7b         Dishwasher\n562  562    /m/0l14j_              Flute\n563  563     /m/0l3ms       Balance beam\n564  564     /m/0l515           Sandwich\n565  565   /m/0ll1f78             Shrimp\n566  566     /m/0llzx     Sewing machine\n567  567     /m/0lt4_         Binoculars\n568  568     /m/0m53l    Rays and skates\n569  569     /m/0mcx2               Ipod\n570  570      /m/0mkg          Accordion\n571  571     /m/0mw_6             Willow\n572  572     /m/0n28_               Crab\n573  573     /m/0nl46              Crown\n574  574     /m/0nybt           Seahorse\n575  575     /m/0p833            Perfume\n576  576      /m/0pcr             Alpaca\n577  577     /m/0pg52               Taxi\n578  578     /m/0ph39              Canoe\n579  579     /m/0qjjc     Remote control\n580  580     /m/0qmmr         Wheelchair\n581  581   /m/0wdt60w         Rugby ball\n582  582      /m/0xfy          Armadillo\n583  583     /m/0xzly            Maracas\n584  584     /m/0zvk5             Helmet\n\n[585 rows x 3 columns]\n",
          "name": "stdout"
        }
      ]
    },
    {
      "metadata": {
        "trusted": true,
        "_uuid": "23b1335e7379b53b39ff55a6e7abdb92caacc10a"
      },
      "cell_type": "code",
      "source": "\"\"\"\nfile = images_from_url(dataset.original_url[120])\n\ntmp = np.array(file.resize((100, 100)))\nplt.imshow(tmp)\nplt.show()\nprint(dataset.label_display_name[120])\n\"\"\"\n\nfeatures = []\nlabels = []\n\n# dataset.label_name.size\ndata_length = 10\n\nfor data_ex in range (0, data_length):\n    features.append(np.array(images_from_url(dataset.original_url[data_ex]).resize((100, 100))))\n    labels.append([[dataset.label_name[data_ex]],[dataset.x_min[data_ex], dataset.y_min[data_ex], dataset.x_max[data_ex], dataset.y_max[data_ex]]])",
      "execution_count": null,
      "outputs": []
    },
    {
      "metadata": {
        "trusted": true,
        "_uuid": "46e8d0ac7fe19d3bd10e80e22ba94a38b7b54732",
        "scrolled": false
      },
      "cell_type": "code",
      "source": "for tmp in range(0, 10):\n    plt.imshow(features[tmp])\n    plt.show()\n    print(labels[tmp])",
      "execution_count": null,
      "outputs": []
    },
    {
      "metadata": {
        "trusted": true,
        "_uuid": "5428aafecba41bb0e7a907849e7ba66c98ec5641"
      },
      "cell_type": "code",
      "source": "",
      "execution_count": null,
      "outputs": []
    }
  ],
  "metadata": {
    "kernelspec": {
      "display_name": "Python 3",
      "language": "python",
      "name": "python3"
    },
    "language_info": {
      "name": "python",
      "version": "3.6.6",
      "mimetype": "text/x-python",
      "codemirror_mode": {
        "name": "ipython",
        "version": 3
      },
      "pygments_lexer": "ipython3",
      "nbconvert_exporter": "python",
      "file_extension": ".py"
    }
  },
  "nbformat": 4,
  "nbformat_minor": 1
}