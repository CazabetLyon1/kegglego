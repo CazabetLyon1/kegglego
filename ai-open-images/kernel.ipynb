{
  "cells": [
    {
      "metadata": {
        "_uuid": "8f2839f25d086af736a60e9eeb907d3b93b6e0e5",
        "_cell_guid": "b1076dfc-b9ad-4769-8c92-a6c4dae69d19",
        "trusted": true
      },
      "cell_type": "code",
      "source": "#04/02/2019\nimport numpy as np # Algebre linéaire\nimport pandas as pd # Data processing, CSV\n\nfrom PIL import Image # Image display\nimport matplotlib.pyplot as plt\n\nfrom io import BytesIO # Image request\nimport requests\n\nimport bq_helper # Data train querry\nfrom bq_helper import BigQueryHelper\n\nimport os",
      "execution_count": 1,
      "outputs": []
    },
    {
      "metadata": {
        "trusted": true,
        "_uuid": "cab4e20497b91f933f67ee646cc8e2b94ad9d8c7"
      },
      "cell_type": "code",
      "source": "def images_from_url(url):\n    response = requests.get(url)\n    return Image.open(BytesIO(response.content))",
      "execution_count": 2,
      "outputs": []
    },
    {
      "metadata": {
        "trusted": true,
        "_uuid": "bfb4eeed4fb164855742bbb34de331c9c8cb51bd",
        "scrolled": true
      },
      "cell_type": "code",
      "source": "open_images = bq_helper.BigQueryHelper(active_project=\"bigquery-public-data\",\n                                   dataset_name=\"open_images\")\nbq_assistant = BigQueryHelper(\"bigquery-public-data\", \"open_images\")\n\n# Liste des tables :\n#['annotations_bbox', 'dict', 'images', 'labels']",
      "execution_count": 3,
      "outputs": [
        {
          "output_type": "stream",
          "text": "Using Kaggle's public dataset BigQuery integration.\nUsing Kaggle's public dataset BigQuery integration.\n",
          "name": "stdout"
        }
      ]
    },
    {
      "metadata": {
        "trusted": true,
        "_uuid": "cec19739ea356e27512b0b1a5927512b5ba89d00",
        "scrolled": false
      },
      "cell_type": "code",
      "source": "subQueryImages = \"\"\"\n(SELECT image_id, original_url\nFROM `bigquery-public-data.open_images.images`)\n\"\"\"\n\nsubQueryBox = \"\"\"\n(SELECT image_id, label_name, x_min, x_max, y_min, y_max\nFROM `bigquery-public-data.open_images.annotations_bbox`\nORDER BY image_id\nLIMIT 100000)\n\"\"\"\n\nsubQueryWord = \"\"\"\n(SELECT label_name, label_display_name\nFROM `bigquery-public-data.open_images.dict`)\n\"\"\"\n\nlabelQuery = \"\"\"\n(SELECT ROW_NUMBER() OVER (ORDER BY wrd.label_name) - 1 AS row, wrd.label_name\nFROM (SELECT DISTINCT(label_name) FROM \"\"\" + subQueryBox + \"\"\") lab\nJOIN \"\"\" + subQueryWord + \"\"\" wrd ON lab.label_name = wrd.label_name)\"\"\"\n\nmainQuery = \"\"\"\nSELECT img.original_url, wrd.label_display_name, box.label_name, idx.row, box.x_min, box.x_max, box.y_min, box.y_max\nFROM \"\"\" + subQueryImages + \"\"\" img\nINNER JOIN \"\"\" + subQueryBox + \"\"\" box ON img.image_id = box.image_id\nINNER JOIN \"\"\" + subQueryWord + \"\"\" wrd ON box.label_name = wrd.label_name\nINNER JOIN \"\"\" + labelQuery + \"\"\" idx ON idx.label_name = wrd.label_name\nORDER BY img.image_id\n\"\"\"\n\ndataset = open_images.query_to_pandas_safe(mainQuery)\n\n\"\"\"\nfor i in range(0, 10):\n    plt.imshow(images_from_url(dataset.original_url[i]))\n    plt.show()\n    print(dataset.label_display_name[i])\n    print(dataset.original_url[i])\"\"\"",
      "execution_count": 12,
      "outputs": [
        {
          "output_type": "execute_result",
          "execution_count": 12,
          "data": {
            "text/plain": "'\\nfor i in range(0, 10):\\n    plt.imshow(images_from_url(dataset.original_url[i]))\\n    plt.show()\\n    print(dataset.label_display_name[i])\\n    print(dataset.original_url[i])'"
          },
          "metadata": {}
        }
      ]
    },
    {
      "metadata": {
        "trusted": true,
        "_uuid": "3dc31f60fb2ab15eb28c7d496c3c7784cc3b6146"
      },
      "cell_type": "code",
      "source": "print(dataset.row)",
      "execution_count": 16,
      "outputs": [
        {
          "output_type": "stream",
          "text": "0        508\n1        147\n2        450\n3         68\n4        147\n5        306\n6        306\n7        189\n8         96\n9        423\n10       226\n11       423\n12       173\n13       450\n14       226\n15       141\n16       544\n17        96\n18       508\n19        68\n20       450\n21       325\n22       159\n23        68\n24       291\n25       286\n26       251\n27       492\n28       557\n29       300\n        ... \n99970    390\n99971    584\n99972     68\n99973    492\n99974    423\n99975    300\n99976    502\n99977    480\n99978    300\n99979    423\n99980    300\n99981    291\n99982    262\n99983    475\n99984    417\n99985      3\n99986      0\n99987      0\n99988    349\n99989    543\n99990     49\n99991    399\n99992    454\n99993     27\n99994     14\n99995     15\n99996    203\n99997    343\n99998    404\n99999    555\nName: row, Length: 100000, dtype: int64\n",
          "name": "stdout"
        }
      ]
    },
    {
      "metadata": {
        "trusted": true,
        "_uuid": "23b1335e7379b53b39ff55a6e7abdb92caacc10a"
      },
      "cell_type": "code",
      "source": "\"\"\"\nfile = images_from_url(dataset.original_url[120])\n\ntmp = np.array(file.resize((100, 100)))\nplt.imshow(tmp)\nplt.show()\nprint(dataset.label_display_name[120])\n\"\"\"\n\nfeatures = []\nlabels = []\n\n# dataset.label_name.size\ndata_length = 10\n\nfor data_ex in range (0, data_length):\n    features.append(np.array(images_from_url(dataset.original_url[data_ex]).resize((100, 100))))\n    labels.append([[dataset.label_name[data_ex]],[dataset.x_min[data_ex], dataset.y_min[data_ex], dataset.x_max[data_ex], dataset.y_max[data_ex]]])",
      "execution_count": null,
      "outputs": []
    },
    {
      "metadata": {
        "trusted": true,
        "_uuid": "46e8d0ac7fe19d3bd10e80e22ba94a38b7b54732",
        "scrolled": false
      },
      "cell_type": "code",
      "source": "for tmp in range(0, 10):\n    plt.imshow(features[tmp])\n    plt.show()\n    print(labels[tmp])",
      "execution_count": null,
      "outputs": []
    },
    {
      "metadata": {
        "trusted": true,
        "_uuid": "5428aafecba41bb0e7a907849e7ba66c98ec5641"
      },
      "cell_type": "code",
      "source": "",
      "execution_count": null,
      "outputs": []
    }
  ],
  "metadata": {
    "kernelspec": {
      "display_name": "Python 3",
      "language": "python",
      "name": "python3"
    },
    "language_info": {
      "name": "python",
      "version": "3.6.6",
      "mimetype": "text/x-python",
      "codemirror_mode": {
        "name": "ipython",
        "version": 3
      },
      "pygments_lexer": "ipython3",
      "nbconvert_exporter": "python",
      "file_extension": ".py"
    }
  },
  "nbformat": 4,
  "nbformat_minor": 1
}