{
  "cells": [
    {
      "metadata": {
        "_cell_guid": "b1076dfc-b9ad-4769-8c92-a6c4dae69d19",
        "_uuid": "8f2839f25d086af736a60e9eeb907d3b93b6e0e5",
        "trusted": true
      },
      "cell_type": "code",
      "source": "#04/02/2019\nimport numpy as np # Algebre linéaire\nimport pandas as pd # Data processing, CSV\n\nfrom PIL import Image # Image display\nimport matplotlib.pyplot as plt\n\nfrom io import BytesIO # Image request\nimport requests\n\nimport bq_helper # Data train querry\nfrom bq_helper import BigQueryHelper\n\nfrom sklearn.model_selection import train_test_split\n\nimport os",
      "execution_count": null,
      "outputs": []
    },
    {
      "metadata": {
        "_uuid": "cab4e20497b91f933f67ee646cc8e2b94ad9d8c7",
        "trusted": true
      },
      "cell_type": "code",
      "source": "def images_from_url(url):\n    response = requests.get(url)\n    return Image.open(BytesIO(response.content))",
      "execution_count": null,
      "outputs": []
    },
    {
      "metadata": {
        "_uuid": "bfb4eeed4fb164855742bbb34de331c9c8cb51bd",
        "scrolled": false,
        "trusted": true
      },
      "cell_type": "code",
      "source": "open_images = bq_helper.BigQueryHelper(active_project=\"bigquery-public-data\",\n                                   dataset_name=\"open_images\")\nbq_assistant = BigQueryHelper(\"bigquery-public-data\", \"open_images\")\n\n# Liste des tables :\n#['annotations_bbox', 'dict', 'images', 'labels']",
      "execution_count": null,
      "outputs": []
    },
    {
      "metadata": {
        "_uuid": "cec19739ea356e27512b0b1a5927512b5ba89d00",
        "scrolled": false,
        "trusted": true
      },
      "cell_type": "code",
      "source": "subQueryImages = \"\"\"\n(SELECT image_id, original_url\nFROM `bigquery-public-data.open_images.images`)\n\"\"\"\n\nsubQueryBox = \"\"\"\n(SELECT image_id, label_name, x_min, x_max, y_min, y_max\nFROM `bigquery-public-data.open_images.annotations_bbox`\nORDER BY image_id\nLIMIT 100000)\n\"\"\"\n\nsubQueryWord = \"\"\"\n(SELECT label_name, label_display_name\nFROM `bigquery-public-data.open_images.dict`)\n\"\"\"\n\nlabelQuery = \"\"\"\n(SELECT ROW_NUMBER() OVER (ORDER BY wrd.label_name) - 1 AS row, wrd.label_name\nFROM (SELECT DISTINCT(label_name) FROM \"\"\" + subQueryBox + \"\"\") lab\nJOIN \"\"\" + subQueryWord + \"\"\" wrd ON lab.label_name = wrd.label_name)\"\"\"\n\nmainQuery = \"\"\"\nSELECT img.image_id, img.original_url, wrd.label_display_name, box.label_name, idx.row, box.x_min, box.x_max, box.y_min, box.y_max\nFROM \"\"\" + subQueryImages + \"\"\" img\nINNER JOIN \"\"\" + subQueryBox + \"\"\" box ON img.image_id = box.image_id\nINNER JOIN \"\"\" + subQueryWord + \"\"\" wrd ON box.label_name = wrd.label_name\nINNER JOIN \"\"\" + labelQuery + \"\"\" idx ON idx.label_name = wrd.label_name\nORDER BY img.image_id\n\"\"\"\n\ndataset = open_images.query_to_pandas_safe(mainQuery)\n\nlabelUnique = open_images.query_to_pandas_safe(labelQuery)\n\n\"\"\"\nfor i in range(0, 10):\n    plt.imshow(images_from_url(dataset.original_url[i]))\n    plt.show()\n    print(dataset.label_display_name[i])\n    print(dataset.original_url[i])\"\"\"",
      "execution_count": null,
      "outputs": []
    },
    {
      "metadata": {
        "_uuid": "23b1335e7379b53b39ff55a6e7abdb92caacc10a",
        "trusted": true
      },
      "cell_type": "code",
      "source": "\"\"\"\nfile = images_from_url(dataset.original_url[120])\n\ntmp = np.array(file.resize((100, 100)))\nplt.imshow(tmp)\nplt.show()\nprint(dataset.label_display_name[120])\n\"\"\"\n\nfeatures = []\nlabels = []\nlabelsWord = []\nlabelsBox = []\n\n# dataset.label_name.size\ndata_length = 25\n\nfor data_ex in range (0, data_length):\n    features.append(np.array(images_from_url(dataset.original_url[data_ex]).resize((100, 100))))\n    one_hot_vector = np.zeros(labelUnique.shape[0])\n    one_hot_vector[dataset.row[data_ex]] = 1\n    #labelsWord.append(one_hot_vector)\n    #labelsBox.append([dataset.x_min[data_ex], dataset.y_min[data_ex], dataset.x_max[data_ex], dataset.y_max[data_ex]])\n    labels.append(np.array([one_hot_vector, dataset.x_min[data_ex], dataset.y_min[data_ex], dataset.x_max[data_ex], dataset.y_max[data_ex]]))",
      "execution_count": null,
      "outputs": []
    },
    {
      "metadata": {
        "_uuid": "46e8d0ac7fe19d3bd10e80e22ba94a38b7b54732",
        "scrolled": false,
        "trusted": true
      },
      "cell_type": "code",
      "source": "X_train, X_valid, y_train, y_valid = train_test_split(features, labels, test_size=0.2, random_state=42)\nprint(type(y_train))\ny_train = np.array(y_train)\ny_train_word = y_train[:, 0]\ny_train_box = y_train[:, 1:5]",
      "execution_count": null,
      "outputs": []
    },
    {
      "metadata": {
        "_uuid": "6bedc88cf2e4b51f4168212ba612d4039f4e1564",
        "trusted": true
      },
      "cell_type": "code",
      "source": "for i in range (0, 20):\n    plt.imshow(X_train[i])\n    plt.show()\n    print(y_train_box[i])",
      "execution_count": null,
      "outputs": []
    },
    {
      "metadata": {
        "_uuid": "f1653ce397f6d3ff9bc0b43b7156f582899bfc09",
        "trusted": false
      },
      "cell_type": "code",
      "source": "",
      "execution_count": null,
      "outputs": []
    }
  ],
  "metadata": {
    "kernelspec": {
      "display_name": "Python 3",
      "language": "python",
      "name": "python3"
    },
    "language_info": {
      "name": "python",
      "version": "3.6.6",
      "mimetype": "text/x-python",
      "codemirror_mode": {
        "name": "ipython",
        "version": 3
      },
      "pygments_lexer": "ipython3",
      "nbconvert_exporter": "python",
      "file_extension": ".py"
    }
  },
  "nbformat": 4,
  "nbformat_minor": 1
}